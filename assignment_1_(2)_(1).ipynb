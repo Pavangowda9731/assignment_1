{
  "nbformat": 4,
  "nbformat_minor": 0,
  "metadata": {
    "colab": {
      "provenance": []
    },
    "kernelspec": {
      "name": "python3",
      "display_name": "Python 3"
    },
    "language_info": {
      "name": "python"
    }
  },
  "cells": [
    {
      "cell_type": "markdown",
      "source": [
        "1) a. variables in python                                                       \n",
        "variables are the location or a name, that can able to store a data interms of int, float, string etc                                                          \n",
        "ex: name=\"charan\""
      ],
      "metadata": {
        "id": "qoD-cvotlAaQ"
      }
    },
    {
      "cell_type": "markdown",
      "source": [
        "1) b. difference btw variable and constant                                      \n",
        "variables are the location or a name, that can able to store a data interms of int, float, string etc                                                          \n",
        "constant are the fixed value we can not alter that. there is no constant in python"
      ],
      "metadata": {
        "id": "wRV9RPDTlvSf"
      }
    },
    {
      "cell_type": "markdown",
      "source": [
        " 2 a) & b)\n",
        "   Datatypes"
      ],
      "metadata": {
        "id": "GB3zQIqJmeXI"
      }
    },
    {
      "cell_type": "code",
      "execution_count": 2,
      "metadata": {
        "colab": {
          "base_uri": "https://localhost:8080/"
        },
        "id": "kTzCSxre1kbe",
        "outputId": "f434d367-40f6-4c76-8583-9a2383a89c59"
      },
      "outputs": [
        {
          "output_type": "execute_result",
          "data": {
            "text/plain": [
              "int"
            ]
          },
          "metadata": {},
          "execution_count": 2
        }
      ],
      "source": [
        "x=50\n",
        "type(x)"
      ]
    },
    {
      "cell_type": "code",
      "source": [
        "y=99.9\n",
        "type(y)"
      ],
      "metadata": {
        "colab": {
          "base_uri": "https://localhost:8080/"
        },
        "id": "kantKUc21r0Y",
        "outputId": "25b92d4a-6c9c-4a66-8617-bed4ede4d375"
      },
      "execution_count": 3,
      "outputs": [
        {
          "output_type": "execute_result",
          "data": {
            "text/plain": [
              "float"
            ]
          },
          "metadata": {},
          "execution_count": 3
        }
      ]
    },
    {
      "cell_type": "code",
      "source": [
        "name=\"Pavan\"\n",
        "type(name)"
      ],
      "metadata": {
        "colab": {
          "base_uri": "https://localhost:8080/"
        },
        "id": "fhPgSOWE2C-j",
        "outputId": "f541cd00-a167-433e-864a-4aed8e405263"
      },
      "execution_count": 4,
      "outputs": [
        {
          "output_type": "execute_result",
          "data": {
            "text/plain": [
              "str"
            ]
          },
          "metadata": {},
          "execution_count": 4
        }
      ]
    },
    {
      "cell_type": "code",
      "source": [
        "a=10\n",
        "b=a>4\n",
        "type(b)"
      ],
      "metadata": {
        "colab": {
          "base_uri": "https://localhost:8080/"
        },
        "id": "WqYw8KES2Ix6",
        "outputId": "61af7c37-b5b7-46fb-ca65-af547ecff453"
      },
      "execution_count": 5,
      "outputs": [
        {
          "output_type": "execute_result",
          "data": {
            "text/plain": [
              "bool"
            ]
          },
          "metadata": {},
          "execution_count": 5
        }
      ]
    },
    {
      "cell_type": "markdown",
      "source": [
        " 3a)Arithmatic operations"
      ],
      "metadata": {
        "id": "kTj5wc3UmmEo"
      }
    },
    {
      "cell_type": "code",
      "source": [
        "#1.addition\n",
        "a=10\n",
        "b=5\n",
        "result=a+b\n",
        "print(result)"
      ],
      "metadata": {
        "colab": {
          "base_uri": "https://localhost:8080/"
        },
        "id": "DkWlekAI2OUo",
        "outputId": "b1be7f09-5191-4173-b091-49e300d59f64"
      },
      "execution_count": 6,
      "outputs": [
        {
          "output_type": "stream",
          "name": "stdout",
          "text": [
            "15\n"
          ]
        }
      ]
    },
    {
      "cell_type": "code",
      "source": [
        "# 2.substraction\n",
        "a=10\n",
        "\n",
        "b=5\n",
        "result=a-b\n",
        "print(result)"
      ],
      "metadata": {
        "colab": {
          "base_uri": "https://localhost:8080/"
        },
        "id": "O-2xuC3M6Dzl",
        "outputId": "1c5bfb44-d3fe-4f90-996a-d0eea991b077"
      },
      "execution_count": 7,
      "outputs": [
        {
          "output_type": "stream",
          "name": "stdout",
          "text": [
            "5\n"
          ]
        }
      ]
    },
    {
      "cell_type": "code",
      "source": [
        "# 3.multiplication\n",
        "a=10\n",
        "b=5\n",
        "result=a*b\n",
        "print(result)"
      ],
      "metadata": {
        "colab": {
          "base_uri": "https://localhost:8080/"
        },
        "id": "qK2gSFD66tGO",
        "outputId": "5b969d16-8d65-41b6-bd57-1cc14d74c0ba"
      },
      "execution_count": 8,
      "outputs": [
        {
          "output_type": "stream",
          "name": "stdout",
          "text": [
            "50\n"
          ]
        }
      ]
    },
    {
      "cell_type": "code",
      "source": [
        "# 4.division\n",
        "a=10\n",
        "b=5\n",
        "result=a/b\n",
        "print(result)"
      ],
      "metadata": {
        "colab": {
          "base_uri": "https://localhost:8080/"
        },
        "id": "7vcAtCOa7BRJ",
        "outputId": "05d0c421-c926-45b9-8a93-18e8e7dec790"
      },
      "execution_count": 9,
      "outputs": [
        {
          "output_type": "stream",
          "name": "stdout",
          "text": [
            "2.0\n"
          ]
        }
      ]
    },
    {
      "cell_type": "code",
      "source": [
        "# 5.modulo\n",
        "a=10\n",
        "b=3\n",
        "result=a%b\n",
        "print(result)"
      ],
      "metadata": {
        "colab": {
          "base_uri": "https://localhost:8080/"
        },
        "id": "q80HSOEX7RdJ",
        "outputId": "fae8908c-551c-412b-8793-fc954d903434"
      },
      "execution_count": 10,
      "outputs": [
        {
          "output_type": "stream",
          "name": "stdout",
          "text": [
            "1\n"
          ]
        }
      ]
    },
    {
      "cell_type": "code",
      "source": [
        "# 6.exponentation\n",
        "a=2\n",
        "b=3\n",
        "result=a**b\n",
        "print(result)"
      ],
      "metadata": {
        "colab": {
          "base_uri": "https://localhost:8080/"
        },
        "id": "-kB4IQsq7bUS",
        "outputId": "a0e3afc0-2dee-4c7c-c96c-8758fb61b844"
      },
      "execution_count": 12,
      "outputs": [
        {
          "output_type": "stream",
          "name": "stdout",
          "text": [
            "8\n"
          ]
        }
      ]
    },
    {
      "cell_type": "code",
      "source": [
        "# 7.floor division\n",
        "a=10\n",
        "b=3\n",
        "result=a//b\n",
        "print(result)"
      ],
      "metadata": {
        "colab": {
          "base_uri": "https://localhost:8080/"
        },
        "id": "1ROMMjo17q2J",
        "outputId": "0c508fb1-d807-4cb4-8e64-b7c40eb713dc"
      },
      "execution_count": 13,
      "outputs": [
        {
          "output_type": "stream",
          "name": "stdout",
          "text": [
            "3\n"
          ]
        }
      ]
    },
    {
      "cell_type": "markdown",
      "source": [
        " 3 b)area of rectangle"
      ],
      "metadata": {
        "id": "fZMlhoBcm3fo"
      }
    },
    {
      "cell_type": "code",
      "source": [
        "l=10\n",
        "w=20\n",
        "area=l*w\n",
        "print(area)"
      ],
      "metadata": {
        "colab": {
          "base_uri": "https://localhost:8080/"
        },
        "id": "PbaC2KAN8FNa",
        "outputId": "ccf9aa96-0ab9-43fe-b71a-76df1969a35f"
      },
      "execution_count": 15,
      "outputs": [
        {
          "output_type": "stream",
          "name": "stdout",
          "text": [
            "200\n"
          ]
        }
      ]
    },
    {
      "cell_type": "markdown",
      "source": [
        " 4 a)Comparision and logical operation"
      ],
      "metadata": {
        "id": "ULauTmUlm8mY"
      }
    },
    {
      "cell_type": "code",
      "source": [
        "#  1.equal\n",
        "a=5\n",
        "b=5\n",
        "a==5\n"
      ],
      "metadata": {
        "colab": {
          "base_uri": "https://localhost:8080/"
        },
        "id": "AjCTuhBU9ZXc",
        "outputId": "b4b8872d-185d-4082-ff3b-8c2fbaaede08"
      },
      "execution_count": null,
      "outputs": [
        {
          "output_type": "execute_result",
          "data": {
            "text/plain": [
              "True"
            ]
          },
          "metadata": {},
          "execution_count": 29
        }
      ]
    },
    {
      "cell_type": "code",
      "source": [
        "#  2.not equal\n",
        "a=5\n",
        "b=5\n",
        "a!=5\n"
      ],
      "metadata": {
        "colab": {
          "base_uri": "https://localhost:8080/"
        },
        "id": "ewgeMWUu-BEY",
        "outputId": "b4edccef-de91-426f-a6fe-12d9212b94d9"
      },
      "execution_count": null,
      "outputs": [
        {
          "output_type": "execute_result",
          "data": {
            "text/plain": [
              "False"
            ]
          },
          "metadata": {},
          "execution_count": 30
        }
      ]
    },
    {
      "cell_type": "code",
      "source": [
        "#  3.greater than\n",
        "a=5\n",
        "b=3\n",
        "a>b\n"
      ],
      "metadata": {
        "colab": {
          "base_uri": "https://localhost:8080/"
        },
        "id": "W0GV2up0-JnH",
        "outputId": "5a186acf-21b0-404b-f2eb-1ff3b1c2adb2"
      },
      "execution_count": null,
      "outputs": [
        {
          "output_type": "execute_result",
          "data": {
            "text/plain": [
              "True"
            ]
          },
          "metadata": {},
          "execution_count": 32
        }
      ]
    },
    {
      "cell_type": "code",
      "source": [
        "#  4.lesser than\n",
        "a=5\n",
        "b=3\n",
        "a<b"
      ],
      "metadata": {
        "colab": {
          "base_uri": "https://localhost:8080/"
        },
        "id": "PYyEW0BQ-Tc3",
        "outputId": "5877c18f-29b1-45ba-a353-f963bdd41f60"
      },
      "execution_count": null,
      "outputs": [
        {
          "output_type": "execute_result",
          "data": {
            "text/plain": [
              "False"
            ]
          },
          "metadata": {},
          "execution_count": 33
        }
      ]
    },
    {
      "cell_type": "code",
      "source": [
        "#  3.greater than or equal\n",
        "a=5\n",
        "b=3\n",
        "a>=b"
      ],
      "metadata": {
        "colab": {
          "base_uri": "https://localhost:8080/"
        },
        "id": "C8aW9RA--i9N",
        "outputId": "45ea69a0-f7cc-4ac0-c248-74cb80ce82df"
      },
      "execution_count": null,
      "outputs": [
        {
          "output_type": "execute_result",
          "data": {
            "text/plain": [
              "True"
            ]
          },
          "metadata": {},
          "execution_count": 34
        }
      ]
    },
    {
      "cell_type": "code",
      "source": [
        "#  3.less than or equal\n",
        "a=10\n",
        "b=30\n",
        "a<=b"
      ],
      "metadata": {
        "colab": {
          "base_uri": "https://localhost:8080/"
        },
        "id": "ViV2vMt1-ozH",
        "outputId": "5dd3b501-f84a-46f1-a04d-c9e72a75d5c4"
      },
      "execution_count": null,
      "outputs": [
        {
          "output_type": "execute_result",
          "data": {
            "text/plain": [
              "True"
            ]
          },
          "metadata": {},
          "execution_count": 37
        }
      ]
    },
    {
      "cell_type": "markdown",
      "source": [
        "4) b. using logical operator write a python script that check if a num is positive and even"
      ],
      "metadata": {
        "id": "AB9aRpQOoGkw"
      }
    },
    {
      "cell_type": "code",
      "source": [
        "num=int(input(\"enter a number\"))\n",
        "if num>0 and num%2==0:\n",
        "    print(\"the number is positive and even\")\n",
        "else :\n",
        "    print(\"the number is not positive and even\")"
      ],
      "metadata": {
        "colab": {
          "base_uri": "https://localhost:8080/"
        },
        "id": "cLJMOybuoWaR",
        "outputId": "fc8145f3-5281-4218-9eba-9d8e4e2714e2"
      },
      "execution_count": null,
      "outputs": [
        {
          "output_type": "stream",
          "name": "stdout",
          "text": [
            "enter a number33\n",
            "the number is not positive and even\n"
          ]
        }
      ]
    },
    {
      "cell_type": "markdown",
      "source": [
        "5) a. type casting                                                              \n",
        "converting one type of data into anther type                                    \n",
        "implicit: automatically it convert one type into another type of data           \n",
        "ex: a=10   b=5.5\n",
        "     r=a+b                                                                      \n",
        "explicit: manually we convert the data type of a variable                       \n",
        "ex: a=\"1000\"          \n",
        "r=int(a)"
      ],
      "metadata": {
        "id": "RvnZ4O5_ofOw"
      }
    },
    {
      "cell_type": "markdown",
      "source": [
        "5 b)python script for"
      ],
      "metadata": {
        "id": "igJcClL9nO8H"
      }
    },
    {
      "cell_type": "code",
      "source": [
        "# 1.convert float to an int\n",
        "x=55.55\n",
        "y=int(x)\n",
        "print(y)\n",
        "type(y)"
      ],
      "metadata": {
        "colab": {
          "base_uri": "https://localhost:8080/"
        },
        "id": "rif459DS-vmN",
        "outputId": "50bb6863-733a-482d-d212-b5751afe5aea"
      },
      "execution_count": null,
      "outputs": [
        {
          "output_type": "stream",
          "name": "stdout",
          "text": [
            "55\n"
          ]
        },
        {
          "output_type": "execute_result",
          "data": {
            "text/plain": [
              "int"
            ]
          },
          "metadata": {},
          "execution_count": 39
        }
      ]
    },
    {
      "cell_type": "code",
      "source": [
        "# 1.convert int to an str\n",
        "x=1000\n",
        "b=str(a)\n",
        "print(b)\n",
        "type(b)"
      ],
      "metadata": {
        "colab": {
          "base_uri": "https://localhost:8080/"
        },
        "id": "tiKYyZWW_Q0G",
        "outputId": "7de29093-c4ac-4f69-ddde-5974b844c257"
      },
      "execution_count": null,
      "outputs": [
        {
          "output_type": "stream",
          "name": "stdout",
          "text": [
            "10\n"
          ]
        },
        {
          "output_type": "execute_result",
          "data": {
            "text/plain": [
              "str"
            ]
          },
          "metadata": {},
          "execution_count": 40
        }
      ]
    },
    {
      "cell_type": "code",
      "source": [
        "# 1.convert str to an float\n",
        "a=\"123.5\"\n",
        "b=float(a)\n",
        "print(b)\n",
        "type(b)\n"
      ],
      "metadata": {
        "colab": {
          "base_uri": "https://localhost:8080/"
        },
        "id": "yUrLeR18_kzg",
        "outputId": "1722eda4-7740-4b72-b476-4715ecc550a1"
      },
      "execution_count": null,
      "outputs": [
        {
          "output_type": "stream",
          "name": "stdout",
          "text": [
            "123.5\n"
          ]
        },
        {
          "output_type": "execute_result",
          "data": {
            "text/plain": [
              "float"
            ]
          },
          "metadata": {},
          "execution_count": 41
        }
      ]
    },
    {
      "cell_type": "markdown",
      "source": [
        "6) write a python script for.."
      ],
      "metadata": {
        "id": "4p7XxC73njiC"
      }
    },
    {
      "cell_type": "code",
      "source": [
        "# 1.adding two num\n",
        "x=20\n",
        "y=5\n",
        "result=x+y\n",
        "print(result)"
      ],
      "metadata": {
        "colab": {
          "base_uri": "https://localhost:8080/"
        },
        "id": "4M-QND4I_ziV",
        "outputId": "e8fce2b7-4159-4878-8131-ca2302d2c744"
      },
      "execution_count": null,
      "outputs": [
        {
          "output_type": "stream",
          "name": "stdout",
          "text": [
            "25\n"
          ]
        }
      ]
    },
    {
      "cell_type": "code",
      "source": [
        "# 2.sub\n",
        "x=20\n",
        "y=5\n",
        "result=x-y\n",
        "print(result)"
      ],
      "metadata": {
        "colab": {
          "base_uri": "https://localhost:8080/"
        },
        "id": "kRdpyLurAQnW",
        "outputId": "0b8ca84c-9c19-428c-c2e2-9c2cceffffa0"
      },
      "execution_count": null,
      "outputs": [
        {
          "output_type": "stream",
          "name": "stdout",
          "text": [
            "15\n"
          ]
        }
      ]
    },
    {
      "cell_type": "code",
      "source": [
        "# 3.multiply two num\n",
        "x=20\n",
        "y=5\n",
        "result=x*y\n",
        "print(result)"
      ],
      "metadata": {
        "colab": {
          "base_uri": "https://localhost:8080/"
        },
        "id": "8Ht2l2q9AYjl",
        "outputId": "63c85ebc-facf-4a8a-8794-b082d9562aed"
      },
      "execution_count": null,
      "outputs": [
        {
          "output_type": "stream",
          "name": "stdout",
          "text": [
            "100\n"
          ]
        }
      ]
    },
    {
      "cell_type": "code",
      "source": [
        "# 4.division\n",
        "x=20\n",
        "y=5\n",
        "result=x/y\n",
        "print(result)"
      ],
      "metadata": {
        "colab": {
          "base_uri": "https://localhost:8080/"
        },
        "id": "h2pP26MkAd-g",
        "outputId": "cfacf202-ebd8-4e9d-d335-04b202777e3f"
      },
      "execution_count": null,
      "outputs": [
        {
          "output_type": "stream",
          "name": "stdout",
          "text": [
            "4.0\n"
          ]
        }
      ]
    },
    {
      "cell_type": "code",
      "source": [
        "# 5.convert the sum of the num to a str and print the type of result\n",
        "a=1000\n",
        "b=2000\n",
        "result=a+b\n",
        "str(result)\n",
        "type(str(result))"
      ],
      "metadata": {
        "colab": {
          "base_uri": "https://localhost:8080/"
        },
        "id": "kVSna3WHAlC1",
        "outputId": "d42b2b8c-cd7d-42a1-d9b9-8489ded7e5d5"
      },
      "execution_count": null,
      "outputs": [
        {
          "output_type": "execute_result",
          "data": {
            "text/plain": [
              "str"
            ]
          },
          "metadata": {},
          "execution_count": 60
        }
      ]
    },
    {
      "cell_type": "code",
      "source": [],
      "metadata": {
        "id": "7BrhmDTLTxm1"
      },
      "execution_count": null,
      "outputs": []
    },
    {
      "cell_type": "code",
      "source": [],
      "metadata": {
        "id": "2vV-IqlxWHqa"
      },
      "execution_count": null,
      "outputs": []
    }
  ]
}